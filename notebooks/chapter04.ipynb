{
 "cells": [
  {
   "cell_type": "code",
   "execution_count": 1,
   "metadata": {},
   "outputs": [],
   "source": [
    "import polars as pl\n",
    "import plotly.graph_objects as go"
   ]
  },
  {
   "cell_type": "markdown",
   "metadata": {},
   "source": [
    "## デシル分析とRFM分析による顧客セグメンテーション\n",
    "\n",
    "### デシル分析"
   ]
  },
  {
   "cell_type": "code",
   "execution_count": 6,
   "metadata": {},
   "outputs": [
    {
     "data": {
      "text/html": [
       "<div><style>\n",
       ".dataframe > thead > tr,\n",
       ".dataframe > tbody > tr {\n",
       "  text-align: right;\n",
       "  white-space: pre-wrap;\n",
       "}\n",
       "</style>\n",
       "<small>shape: (5, 16)</small><table border=\"1\" class=\"dataframe\"><thead><tr><th>モニタ</th><th>日付</th><th>購入数量</th><th>単価</th><th>金額</th><th>大分類</th><th>中分類</th><th>小分類</th><th>細分類</th><th>性別</th><th>年代</th><th>未既婚</th><th>大分類名</th><th>中分類名</th><th>小分類名</th><th>細分類名</th></tr><tr><td>i64</td><td>date</td><td>i64</td><td>i64</td><td>i64</td><td>i64</td><td>i64</td><td>i64</td><td>i64</td><td>i64</td><td>i64</td><td>i64</td><td>str</td><td>str</td><td>str</td><td>str</td></tr></thead><tbody><tr><td>15</td><td>2013-07-15</td><td>1</td><td>118</td><td>118</td><td>1</td><td>14</td><td>1403</td><td>140397</td><td>2</td><td>10</td><td>3</td><td>&quot;食品&quot;</td><td>&quot;飲料・酒類&quot;</td><td>&quot;清涼飲料&quot;</td><td>&quot;その他清涼飲料&quot;</td></tr><tr><td>15</td><td>2013-07-15</td><td>1</td><td>128</td><td>128</td><td>1</td><td>11</td><td>1107</td><td>110707</td><td>2</td><td>10</td><td>3</td><td>&quot;食品&quot;</td><td>&quot;加工食品&quot;</td><td>&quot;冷凍食品&quot;</td><td>&quot;冷凍調理&quot;</td></tr><tr><td>15</td><td>2013-07-15</td><td>1</td><td>140</td><td>140</td><td>2</td><td>24</td><td>2404</td><td>240413</td><td>2</td><td>10</td><td>3</td><td>&quot;日用品&quot;</td><td>&quot;家庭用品&quot;</td><td>&quot;台所用品&quot;</td><td>&quot;キッチンペーパー&quot;</td></tr><tr><td>15</td><td>2013-07-15</td><td>1</td><td>78</td><td>78</td><td>1</td><td>12</td><td>1203</td><td>120397</td><td>2</td><td>10</td><td>3</td><td>&quot;食品&quot;</td><td>&quot;生鮮食品&quot;</td><td>&quot;農産&quot;</td><td>&quot;その他農産&quot;</td></tr><tr><td>15</td><td>2013-07-15</td><td>2</td><td>83</td><td>166</td><td>2</td><td>26</td><td>2622</td><td>262201</td><td>2</td><td>10</td><td>3</td><td>&quot;日用品&quot;</td><td>&quot;ペット用品&quot;</td><td>&quot;猫&quot;</td><td>&quot;猫フード&quot;</td></tr></tbody></table></div>"
      ],
      "text/plain": [
       "shape: (5, 16)\n",
       "┌────────┬────────────┬──────────┬──────┬───┬──────────┬────────────┬──────────┬──────────────────┐\n",
       "│ モニタ ┆ 日付       ┆ 購入数量 ┆ 単価 ┆ … ┆ 大分類名 ┆ 中分類名   ┆ 小分類名 ┆ 細分類名         │\n",
       "│ ---    ┆ ---        ┆ ---      ┆ ---  ┆   ┆ ---      ┆ ---        ┆ ---      ┆ ---              │\n",
       "│ i64    ┆ date       ┆ i64      ┆ i64  ┆   ┆ str      ┆ str        ┆ str      ┆ str              │\n",
       "╞════════╪════════════╪══════════╪══════╪═══╪══════════╪════════════╪══════════╪══════════════════╡\n",
       "│ 15     ┆ 2013-07-15 ┆ 1        ┆ 118  ┆ … ┆ 食品     ┆ 飲料・酒類 ┆ 清涼飲料 ┆ その他清涼飲料   │\n",
       "│ 15     ┆ 2013-07-15 ┆ 1        ┆ 128  ┆ … ┆ 食品     ┆ 加工食品   ┆ 冷凍食品 ┆ 冷凍調理         │\n",
       "│ 15     ┆ 2013-07-15 ┆ 1        ┆ 140  ┆ … ┆ 日用品   ┆ 家庭用品   ┆ 台所用品 ┆ キッチンペーパー │\n",
       "│ 15     ┆ 2013-07-15 ┆ 1        ┆ 78   ┆ … ┆ 食品     ┆ 生鮮食品   ┆ 農産     ┆ その他農産       │\n",
       "│ 15     ┆ 2013-07-15 ┆ 2        ┆ 83   ┆ … ┆ 日用品   ┆ ペット用品 ┆ 猫       ┆ 猫フード         │\n",
       "└────────┴────────────┴──────────┴──────┴───┴──────────┴────────────┴──────────┴──────────────────┘"
      ]
     },
     "execution_count": 6,
     "metadata": {},
     "output_type": "execute_result"
    }
   ],
   "source": [
    "url_data_4_1 = 'https://raw.githubusercontent.com/asakura-data-science/marketing/main/Chapter_4/in/sec4-1data.csv'\n",
    "df = (\n",
    "    pl.read_csv(url_data_4_1)\n",
    "    .with_columns(pl.col('日付').cast(pl.Utf8).str.to_date('%Y%m%d'))\n",
    ")\n",
    "df.head()"
   ]
  },
  {
   "cell_type": "code",
   "execution_count": 9,
   "metadata": {},
   "outputs": [
    {
     "data": {
      "text/html": [
       "<div><style>\n",
       ".dataframe > thead > tr,\n",
       ".dataframe > tbody > tr {\n",
       "  text-align: right;\n",
       "  white-space: pre-wrap;\n",
       "}\n",
       "</style>\n",
       "<small>shape: (10, 2)</small><table border=\"1\" class=\"dataframe\"><thead><tr><th>モニタ</th><th>金額</th></tr><tr><td>i64</td><td>i64</td></tr></thead><tbody><tr><td>38</td><td>582936</td></tr><tr><td>57</td><td>491733</td></tr><tr><td>98</td><td>261842</td></tr><tr><td>257</td><td>242446</td></tr><tr><td>37</td><td>203218</td></tr><tr><td>276</td><td>109111</td></tr><tr><td>127</td><td>97732</td></tr><tr><td>575</td><td>89702</td></tr><tr><td>361</td><td>87538</td></tr><tr><td>350</td><td>78426</td></tr></tbody></table></div>"
      ],
      "text/plain": [
       "shape: (10, 2)\n",
       "┌────────┬────────┐\n",
       "│ モニタ ┆ 金額   │\n",
       "│ ---    ┆ ---    │\n",
       "│ i64    ┆ i64    │\n",
       "╞════════╪════════╡\n",
       "│ 38     ┆ 582936 │\n",
       "│ 57     ┆ 491733 │\n",
       "│ 98     ┆ 261842 │\n",
       "│ 257    ┆ 242446 │\n",
       "│ 37     ┆ 203218 │\n",
       "│ 276    ┆ 109111 │\n",
       "│ 127    ┆ 97732  │\n",
       "│ 575    ┆ 89702  │\n",
       "│ 361    ┆ 87538  │\n",
       "│ 350    ┆ 78426  │\n",
       "└────────┴────────┘"
      ]
     },
     "execution_count": 9,
     "metadata": {},
     "output_type": "execute_result"
    }
   ],
   "source": [
    "# モニタ別金額集計\n",
    "(\n",
    "    df.group_by('モニタ').agg(pl.col('金額').sum())\n",
    "    .sort(by='金額', descending=True)\n",
    "    .head(10)\n",
    ")"
   ]
  },
  {
   "cell_type": "code",
   "execution_count": 10,
   "metadata": {},
   "outputs": [
    {
     "data": {
      "text/html": [
       "<div><style>\n",
       ".dataframe > thead > tr,\n",
       ".dataframe > tbody > tr {\n",
       "  text-align: right;\n",
       "  white-space: pre-wrap;\n",
       "}\n",
       "</style>\n",
       "<small>shape: (106, 2)</small><table border=\"1\" class=\"dataframe\"><thead><tr><th>モニタ</th><th>金額</th></tr><tr><td>i64</td><td>i64</td></tr></thead><tbody><tr><td>265</td><td>2444</td></tr><tr><td>48</td><td>10923</td></tr><tr><td>117</td><td>3472</td></tr><tr><td>15</td><td>2880</td></tr><tr><td>66</td><td>43802</td></tr><tr><td>462</td><td>156</td></tr><tr><td>450</td><td>30132</td></tr><tr><td>307</td><td>11183</td></tr><tr><td>436</td><td>5345</td></tr><tr><td>46</td><td>9978</td></tr><tr><td>533</td><td>652</td></tr><tr><td>54</td><td>822</td></tr><tr><td>&hellip;</td><td>&hellip;</td></tr><tr><td>431</td><td>8711</td></tr><tr><td>68</td><td>1132</td></tr><tr><td>500</td><td>2644</td></tr><tr><td>71</td><td>9550</td></tr><tr><td>375</td><td>1272</td></tr><tr><td>350</td><td>78426</td></tr><tr><td>652</td><td>1248</td></tr><tr><td>131</td><td>4522</td></tr><tr><td>160</td><td>1056</td></tr><tr><td>249</td><td>31976</td></tr><tr><td>86</td><td>3033</td></tr><tr><td>508</td><td>6414</td></tr></tbody></table></div>"
      ],
      "text/plain": [
       "shape: (106, 2)\n",
       "┌────────┬───────┐\n",
       "│ モニタ ┆ 金額  │\n",
       "│ ---    ┆ ---   │\n",
       "│ i64    ┆ i64   │\n",
       "╞════════╪═══════╡\n",
       "│ 265    ┆ 2444  │\n",
       "│ 48     ┆ 10923 │\n",
       "│ 117    ┆ 3472  │\n",
       "│ 15     ┆ 2880  │\n",
       "│ 66     ┆ 43802 │\n",
       "│ …      ┆ …     │\n",
       "│ 131    ┆ 4522  │\n",
       "│ 160    ┆ 1056  │\n",
       "│ 249    ┆ 31976 │\n",
       "│ 86     ┆ 3033  │\n",
       "│ 508    ┆ 6414  │\n",
       "└────────┴───────┘"
      ]
     },
     "execution_count": 10,
     "metadata": {},
     "output_type": "execute_result"
    }
   ],
   "source": [
    "# デシル分析の各ランクの閾値とモニタ別のランクの計算\n",
    "(\n",
    "    df.group_by('モニタ').agg(pl.col('金額').sum())\n",
    "    .quantile()\n",
    ")"
   ]
  },
  {
   "cell_type": "code",
   "execution_count": null,
   "metadata": {},
   "outputs": [],
   "source": []
  }
 ],
 "metadata": {
  "kernelspec": {
   "display_name": "Python 3",
   "language": "python",
   "name": "python3"
  },
  "language_info": {
   "codemirror_mode": {
    "name": "ipython",
    "version": 3
   },
   "file_extension": ".py",
   "mimetype": "text/x-python",
   "name": "python",
   "nbconvert_exporter": "python",
   "pygments_lexer": "ipython3",
   "version": "3.11.7"
  }
 },
 "nbformat": 4,
 "nbformat_minor": 2
}
